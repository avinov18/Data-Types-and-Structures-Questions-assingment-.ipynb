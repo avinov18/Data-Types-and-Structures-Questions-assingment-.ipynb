{
  "nbformat": 4,
  "nbformat_minor": 0,
  "metadata": {
    "colab": {
      "provenance": []
    },
    "kernelspec": {
      "name": "python3",
      "display_name": "Python 3"
    },
    "language_info": {
      "name": "python"
    }
  },
  "cells": [
    {
      "cell_type": "markdown",
      "source": [],
      "metadata": {
        "id": "6nXXZwvtaiV3"
      }
    },
    {
      "cell_type": "markdown",
      "source": [
        "#Data Types and Structures Questions"
      ],
      "metadata": {
        "id": "kLMmIVAPaqnT"
      }
    },
    {
      "cell_type": "markdown",
      "source": [],
      "metadata": {
        "id": "UfFZFco2a3mB"
      }
    },
    {
      "cell_type": "markdown",
      "source": [
        "        1. What are data structures, and why are they important?\n",
        "\n",
        "- data structure is a way, whera we can store data, and organize the data in a proper way so that we can manipulation the data.\n",
        "its impotant because it help us to improuf the cord\n",
        "\n",
        "\n",
        "\n",
        "\n",
        "2. Explain the difference between mutable and immutable data types with examples?\n",
        "- in programming mutable data type can be edited or changed after cration. but in outher side immutable data type can't be changed.\n",
        "\n",
        "E.G of mutable:/\n",
        "box=[1,2,3,4]\n",
        "type(box)#list\n",
        "box.append(5)\n",
        "print(box)#[1,2,3,4,5]\n",
        "\n",
        "E.G of immutable data type:/\n",
        "box1=(1,2,3,4)\n",
        "type(box1)#tuple\n",
        "box1.append(5)\n",
        "print(\"box1\")#AttributeError\n",
        "\n",
        "\n",
        "\n",
        "\n",
        "3. What are the main differences between lists and tuples in Python?\n",
        " - In Python, the main difference between lists and tuples is that lists are mutable, while tuples are immutable. This means that you can change lists by adding, removing, or modifying elements, but you cannot do the same with tuples.\n",
        "\n",
        "\n",
        "\n",
        "\n",
        " 4. Describe how dictionaries store data?\n",
        "  -  Dictionaries are used to store data values in key:value pairs.\n",
        "\n",
        "\n",
        "\n",
        "\n",
        " 6. What is a string in Python, and how is it different from a list?\n",
        " -  Strings in Python are sequences of characters enclosed in quotes ('' or “”). Lists are ordered collections of items enclosed in square brackets []. 2) Strings are immutable, meaning they cannot be changed once created, while lists are mutable and can be modified as needed.\n",
        "\n",
        "\n",
        "\n",
        "\n",
        " 7.  How do tuples ensure data integrity in Python?\n",
        " -   Tuples are immutable to ensure that their contents remain constant throughout their lifecycle.\n",
        "\n",
        "\n",
        "\n",
        " 9.   Can lists contain different data types in Python?\n",
        " -    yes it can for an E.G> ncluding strings, floats, and booleans.\n",
        "\n",
        "\n",
        "\n",
        " 10.  Explain why strings are immutable in Python?\n",
        " -    Strings in Python are “immutable” which means they can not be changed after they are created. Some other immutable data types are integers, float, boolean, etc.\n",
        "\n",
        "\n",
        "\n",
        "\n",
        " 14.  How does the “in” keyword work differently for lists and dictionaries?\n",
        "  -    The in and not in operator works on dictionaries; it tells you whether something appears or not as a key in the dictionary. It returns two values True or False. The in operator uses different algorithms for lists and dictionaries.\n",
        "\n",
        "\n",
        "  \n",
        "  15. Can you modify the elements of a tuple? Explain why or why not?\n",
        "  -  No, you cannot directly modify the elements of a tuple in Python because tuples are immutable, meaning their contents cannot be changed after creation.\n",
        "\n"
      ],
      "metadata": {
        "id": "sDlWRocLa5bN"
      }
    },
    {
      "cell_type": "code",
      "source": [
        "                                                            #Practical Questions"
      ],
      "metadata": {
        "id": "1DTULItc_GLl"
      },
      "execution_count": null,
      "outputs": []
    },
    {
      "cell_type": "code",
      "source": [
        "# Write a code to create a string with your name and print\n",
        "\n",
        "a=(\"macbook\")\n",
        "a.upper()"
      ],
      "metadata": {
        "colab": {
          "base_uri": "https://localhost:8080/",
          "height": 35
        },
        "id": "qEJ8mIQ7KFn0",
        "outputId": "17f84db6-7dc0-4134-bb0e-278db6dbb0ee"
      },
      "execution_count": null,
      "outputs": [
        {
          "output_type": "execute_result",
          "data": {
            "text/plain": [
              "'MACBOOK'"
            ],
            "application/vnd.google.colaboratory.intrinsic+json": {
              "type": "string"
            }
          },
          "metadata": {},
          "execution_count": 32
        }
      ]
    },
    {
      "cell_type": "code",
      "source": [
        "a.lower()"
      ],
      "metadata": {
        "colab": {
          "base_uri": "https://localhost:8080/",
          "height": 35
        },
        "id": "PlOeHKF8KGNW",
        "outputId": "9340a916-7559-4e91-8333-a19edbd284ab"
      },
      "execution_count": null,
      "outputs": [
        {
          "output_type": "execute_result",
          "data": {
            "text/plain": [
              "'macbook'"
            ],
            "application/vnd.google.colaboratory.intrinsic+json": {
              "type": "string"
            }
          },
          "metadata": {},
          "execution_count": 33
        }
      ]
    },
    {
      "cell_type": "code",
      "source": [
        "# Write a code to find the length of the string \"Hello World\n",
        "a=(\"hello world\")\n",
        "len(a)"
      ],
      "metadata": {
        "id": "93Ia7vbYKzGU",
        "colab": {
          "base_uri": "https://localhost:8080/"
        },
        "outputId": "4cdd3ac9-0607-413b-a270-32b6758d5d0a"
      },
      "execution_count": null,
      "outputs": [
        {
          "output_type": "execute_result",
          "data": {
            "text/plain": [
              "11"
            ]
          },
          "metadata": {},
          "execution_count": 1
        }
      ]
    },
    {
      "cell_type": "code",
      "source": [
        "#Write a code to slice the first 3 characters from the string \"Python Programming\"\n",
        "\n",
        "a=(\"python programing\")\n",
        "a=a[0:3]\n",
        "print(a)"
      ],
      "metadata": {
        "colab": {
          "base_uri": "https://localhost:8080/"
        },
        "id": "kKNlx1tt__nb",
        "outputId": "de999347-74cd-4958-d724-4a814b02974c"
      },
      "execution_count": null,
      "outputs": [
        {
          "output_type": "stream",
          "name": "stdout",
          "text": [
            "pyt\n"
          ]
        }
      ]
    },
    {
      "cell_type": "code",
      "source": [
        "a=(\"python programing\")\n",
        "a=(a[3:])\n",
        "print(a)"
      ],
      "metadata": {
        "colab": {
          "base_uri": "https://localhost:8080/"
        },
        "id": "dyVaVtUYAjVO",
        "outputId": "9f1ed631-0675-4b37-be18-38ae2e3aaffe"
      },
      "execution_count": null,
      "outputs": [
        {
          "output_type": "stream",
          "name": "stdout",
          "text": [
            "hon programing\n"
          ]
        }
      ]
    },
    {
      "cell_type": "code",
      "source": [
        "#Write a code to convert the string \"hello\" to uppercase\n",
        "\n",
        "a=(\"hello\")\n",
        "a.upper()"
      ],
      "metadata": {
        "colab": {
          "base_uri": "https://localhost:8080/",
          "height": 35
        },
        "id": "XjehQSEMBHnB",
        "outputId": "b7a2ef47-d9a0-415e-b799-82482e9d8c1a"
      },
      "execution_count": null,
      "outputs": [
        {
          "output_type": "execute_result",
          "data": {
            "text/plain": [
              "'HELLO'"
            ],
            "application/vnd.google.colaboratory.intrinsic+json": {
              "type": "string"
            }
          },
          "metadata": {},
          "execution_count": 5
        }
      ]
    },
    {
      "cell_type": "code",
      "source": [
        "#Write a code to replace the word \"apple\" with \"orange\" in the string \"I like apple\"\n",
        "\n",
        "a=(\"i like apple\")\n",
        "a.replace(\"apple\",\"orange\")"
      ],
      "metadata": {
        "colab": {
          "base_uri": "https://localhost:8080/",
          "height": 35
        },
        "id": "oNBpR0tRBeaN",
        "outputId": "2e9aa1cf-c3c7-4c83-ae1a-18df223562ce"
      },
      "execution_count": null,
      "outputs": [
        {
          "output_type": "execute_result",
          "data": {
            "text/plain": [
              "'i like orange'"
            ],
            "application/vnd.google.colaboratory.intrinsic+json": {
              "type": "string"
            }
          },
          "metadata": {},
          "execution_count": 8
        }
      ]
    },
    {
      "cell_type": "code",
      "source": [
        "#Write a code to create a list with numbers 1 to 5 and print it\n",
        "\n",
        "a=[\"1\",\"2\",\"3\",\"4\",\"5\"]\n",
        "type(a)"
      ],
      "metadata": {
        "colab": {
          "base_uri": "https://localhost:8080/"
        },
        "id": "-SVkiqVLCYe4",
        "outputId": "4f42ed62-8f96-44fa-833f-6a6f08089c72"
      },
      "execution_count": null,
      "outputs": [
        {
          "output_type": "execute_result",
          "data": {
            "text/plain": [
              "list"
            ]
          },
          "metadata": {},
          "execution_count": 9
        }
      ]
    },
    {
      "cell_type": "code",
      "source": [
        "print(a)"
      ],
      "metadata": {
        "colab": {
          "base_uri": "https://localhost:8080/"
        },
        "id": "Og8ACuYxDKmB",
        "outputId": "bbffc9c4-0dbf-4c41-e119-b32ac1937f54"
      },
      "execution_count": null,
      "outputs": [
        {
          "output_type": "stream",
          "name": "stdout",
          "text": [
            "['1', '2', '3', '4', '5']\n"
          ]
        }
      ]
    },
    {
      "cell_type": "code",
      "source": [
        "#Write a code to append the number 10 to the list [1, 2, 3, 4]\n",
        "\n",
        "a=[1,2,3,4]\n",
        "a.append(10)\n",
        "print(a)"
      ],
      "metadata": {
        "colab": {
          "base_uri": "https://localhost:8080/"
        },
        "id": "lIZW6e2-DN8Z",
        "outputId": "c5ca6e9e-3a54-444c-bc21-50f2b6c85247"
      },
      "execution_count": null,
      "outputs": [
        {
          "output_type": "stream",
          "name": "stdout",
          "text": [
            "[1, 2, 3, 4, 10]\n"
          ]
        }
      ]
    },
    {
      "cell_type": "code",
      "source": [
        "#Write a code to remove the number 3 from the list [1, 2, 3, 4, 5]\n",
        "\n",
        "a=[1,2,3,4,5]\n",
        "a.remove(3)\n",
        "print(a)"
      ],
      "metadata": {
        "colab": {
          "base_uri": "https://localhost:8080/"
        },
        "id": "lloxHEPYDwK7",
        "outputId": "3c8489c4-2bb2-486d-a67f-9b0f237289ff"
      },
      "execution_count": null,
      "outputs": [
        {
          "output_type": "stream",
          "name": "stdout",
          "text": [
            "[1, 2, 4, 5]\n"
          ]
        }
      ]
    },
    {
      "cell_type": "code",
      "source": [
        "#Write a code to access the second element in the list ['a', 'b', 'c', 'd']\n",
        "\n",
        "a=[\"a\",\"b\",\"c\",\"d\"]\n",
        "a[1]"
      ],
      "metadata": {
        "colab": {
          "base_uri": "https://localhost:8080/",
          "height": 35
        },
        "id": "aCsJkigFFUy-",
        "outputId": "2fee6fae-d76e-4717-e0f9-ec271e4781ee"
      },
      "execution_count": null,
      "outputs": [
        {
          "output_type": "execute_result",
          "data": {
            "text/plain": [
              "'b'"
            ],
            "application/vnd.google.colaboratory.intrinsic+json": {
              "type": "string"
            }
          },
          "metadata": {},
          "execution_count": 15
        }
      ]
    },
    {
      "cell_type": "code",
      "source": [
        "#Write a code to reverse the list [10, 20, 30, 40, 50].\n",
        "a=[10,20,30,40,50]\n",
        "a.reverse()\n",
        "print(a)"
      ],
      "metadata": {
        "colab": {
          "base_uri": "https://localhost:8080/"
        },
        "id": "Fvt9JDyhFzfj",
        "outputId": "e9fddd8b-9b06-416b-9b8b-02d7878f48e5"
      },
      "execution_count": null,
      "outputs": [
        {
          "output_type": "stream",
          "name": "stdout",
          "text": [
            "[50, 40, 30, 20, 10]\n"
          ]
        }
      ]
    },
    {
      "cell_type": "code",
      "source": [
        "#11. Write a code to create a tuple with the elements 100, 200, 300 and print it.\n",
        "\n",
        "a=(100,200,300)\n",
        "type(a)\n",
        "print(a)"
      ],
      "metadata": {
        "colab": {
          "base_uri": "https://localhost:8080/"
        },
        "id": "tfvnM3wUGWTz",
        "outputId": "0941d9b0-07bc-4981-92fc-fc4b67eb51df"
      },
      "execution_count": null,
      "outputs": [
        {
          "output_type": "stream",
          "name": "stdout",
          "text": [
            "(100, 200, 300)\n"
          ]
        }
      ]
    },
    {
      "cell_type": "code",
      "source": [
        "#12. Write a code to access the second-to-last element of the tuple ('red', 'green', 'blue', 'yellow').\n",
        "a=(\"red\",\"green\",\"blue\",\"yellow\")\n",
        "a[1:]"
      ],
      "metadata": {
        "colab": {
          "base_uri": "https://localhost:8080/"
        },
        "id": "z-NssVcXGs69",
        "outputId": "024116dd-ef97-49c0-b6cd-30f55813fdad"
      },
      "execution_count": null,
      "outputs": [
        {
          "output_type": "execute_result",
          "data": {
            "text/plain": [
              "('green', 'blue', 'yellow')"
            ]
          },
          "metadata": {},
          "execution_count": 20
        }
      ]
    },
    {
      "cell_type": "code",
      "source": [
        "#13. Write a code to find the minimum number in the tuple (10, 20, 5, 15).\n",
        "a=(10,20,5,15)\n",
        "min(a)"
      ],
      "metadata": {
        "colab": {
          "base_uri": "https://localhost:8080/"
        },
        "id": "pRtEek__HtVm",
        "outputId": "dd3bab29-f535-4f7a-d725-99cb1b3679ca"
      },
      "execution_count": null,
      "outputs": [
        {
          "output_type": "execute_result",
          "data": {
            "text/plain": [
              "5"
            ]
          },
          "metadata": {},
          "execution_count": 23
        }
      ]
    },
    {
      "cell_type": "code",
      "source": [
        "#14. Write a code to find the index of the element \"cat\" in the tuple ('dog', 'cat', 'rabbit').\n",
        "a=(\"dog\",\"cat\",\"rabbit\")\n",
        "index=a.index(\"cat\")\n",
        "print(index)"
      ],
      "metadata": {
        "colab": {
          "base_uri": "https://localhost:8080/"
        },
        "id": "ccQZQufRIl6b",
        "outputId": "b2a551e1-470a-49dd-9d0f-cd5884f657d6"
      },
      "execution_count": null,
      "outputs": [
        {
          "output_type": "stream",
          "name": "stdout",
          "text": [
            "1\n"
          ]
        }
      ]
    },
    {
      "cell_type": "code",
      "source": [
        "#15. Write a code to create a tuple containing three different fruits and check if \"kiwi\" is in it.\n",
        "a=(\"apple\",\"mango\",\"banana\",\"kiwi\")\n",
        "if \"kiwi\" in a:\n",
        "  print(\"kiwi found\")\n",
        "else:\n",
        "  print(\"kiwi not found\")\n"
      ],
      "metadata": {
        "colab": {
          "base_uri": "https://localhost:8080/"
        },
        "id": "LzuCwGt0LD37",
        "outputId": "d1d11a92-ce2f-4a0b-b6c3-683c603f419c"
      },
      "execution_count": null,
      "outputs": [
        {
          "output_type": "stream",
          "name": "stdout",
          "text": [
            "kiwi found\n"
          ]
        }
      ]
    },
    {
      "cell_type": "code",
      "source": [
        "#16. Write a code to create a set with the elements 'a', 'b', 'c' and print it.\n",
        "a={\"a\",\"b\",\"c\"}\n",
        "type(a)\n",
        "print(a)\n"
      ],
      "metadata": {
        "colab": {
          "base_uri": "https://localhost:8080/"
        },
        "id": "Mpw9lsGfL6Lr",
        "outputId": "2241f27c-8b0d-4001-f7a1-ab2297eae077"
      },
      "execution_count": null,
      "outputs": [
        {
          "output_type": "stream",
          "name": "stdout",
          "text": [
            "{'c', 'b', 'a'}\n"
          ]
        }
      ]
    },
    {
      "cell_type": "code",
      "source": [
        "#17. Write a code to clear all elements from the set {1, 2, 3, 4, 5}.\n",
        "\n",
        "a={1,2,3,4,5}\n",
        "a.clear()\n",
        "print(a)"
      ],
      "metadata": {
        "colab": {
          "base_uri": "https://localhost:8080/"
        },
        "id": "gSJkaR8JOGKZ",
        "outputId": "52748cf5-5014-4085-ac3f-45fc00d8e9ca"
      },
      "execution_count": null,
      "outputs": [
        {
          "output_type": "stream",
          "name": "stdout",
          "text": [
            "set()\n"
          ]
        }
      ]
    },
    {
      "cell_type": "code",
      "source": [
        "#18. Write a code to remove the element 4 from the set {1, 2, 3, 4}.\n",
        "\n",
        "a={1,2,3,4}\n",
        "a.remove(4)\n",
        "print(a)"
      ],
      "metadata": {
        "colab": {
          "base_uri": "https://localhost:8080/"
        },
        "id": "CVquF0LOOceV",
        "outputId": "5ab4bd34-cf01-4b85-b1b1-8cfd34a30c8a"
      },
      "execution_count": null,
      "outputs": [
        {
          "output_type": "stream",
          "name": "stdout",
          "text": [
            "{1, 2, 3}\n"
          ]
        }
      ]
    },
    {
      "cell_type": "code",
      "source": [
        "#19. Write a code to find the union of two sets {1, 2, 3} and {3, 4, 5}.\n",
        "a={1,2,3}\n",
        "b={3,4,5}\n",
        "a.union(b)"
      ],
      "metadata": {
        "colab": {
          "base_uri": "https://localhost:8080/"
        },
        "id": "25WI22fnPhTV",
        "outputId": "92b6bda7-482f-4cde-dd6c-0e943b23fa5e"
      },
      "execution_count": null,
      "outputs": [
        {
          "output_type": "execute_result",
          "data": {
            "text/plain": [
              "{1, 2, 3, 4, 5}"
            ]
          },
          "metadata": {},
          "execution_count": 40
        }
      ]
    },
    {
      "cell_type": "code",
      "source": [
        "#20. Write a code to find the intersection of two sets {1, 2, 3} and {2, 3, 4}\n",
        "a={1,2,3}\n",
        "b={2,3,4}\n",
        "a.intersection(b)"
      ],
      "metadata": {
        "colab": {
          "base_uri": "https://localhost:8080/"
        },
        "id": "YBA2EraEQIc3",
        "outputId": "47aaf49c-2f7b-48b0-dee1-d1ef6f89a7a5"
      },
      "execution_count": null,
      "outputs": [
        {
          "output_type": "execute_result",
          "data": {
            "text/plain": [
              "{2, 3}"
            ]
          },
          "metadata": {},
          "execution_count": 42
        }
      ]
    },
    {
      "cell_type": "code",
      "source": [
        "#21. Write a code to create a dictionary with the keys \"name\", \"age\", and \"city\", and print it.\n",
        "a={\"name\":\"avi\",\"age\":20,\"city\":\"kolkata\"}\n",
        "type(a)\n",
        "print(a)\n"
      ],
      "metadata": {
        "colab": {
          "base_uri": "https://localhost:8080/"
        },
        "id": "tFCBK6xsRRul",
        "outputId": "9f1a1113-6c15-428c-d3c1-bc6aeff325ee"
      },
      "execution_count": null,
      "outputs": [
        {
          "output_type": "stream",
          "name": "stdout",
          "text": [
            "{'name': 'avi', 'age': 20, 'city': 'kolkata'}\n"
          ]
        }
      ]
    },
    {
      "cell_type": "code",
      "source": [
        "#22. Write a code to add a new key-value pair \"country\": \"USA\" to the dictionary {'name': 'John', 'age': 25}\n",
        "a={\"name\":\"jhon\",\"age\":\"25\"}\n",
        "a[\"country\"]=\"USA\"\n",
        "print(a)"
      ],
      "metadata": {
        "id": "e59Yfr8TWivE",
        "colab": {
          "base_uri": "https://localhost:8080/"
        },
        "outputId": "cb87b6f6-8f10-47a9-c60d-c1c11b574453"
      },
      "execution_count": 3,
      "outputs": [
        {
          "output_type": "stream",
          "name": "stdout",
          "text": [
            "{'name': 'jhon', 'age': '25', 'country': 'USA'}\n"
          ]
        }
      ]
    },
    {
      "cell_type": "code",
      "source": [
        "#23. Write a code to access the value associated with the key \"name\" in the dictionary {'name': 'Alice', 'age': 30}.\n",
        "a={\"name\":\"alice\",\"age\":\"30\"}\n",
        "a[\"name\"]"
      ],
      "metadata": {
        "colab": {
          "base_uri": "https://localhost:8080/",
          "height": 35
        },
        "id": "7Fh_2rTT4-uM",
        "outputId": "c92743e1-a492-4e4f-e08f-b2680213a330"
      },
      "execution_count": 24,
      "outputs": [
        {
          "output_type": "execute_result",
          "data": {
            "text/plain": [
              "'alice'"
            ],
            "application/vnd.google.colaboratory.intrinsic+json": {
              "type": "string"
            }
          },
          "metadata": {},
          "execution_count": 24
        }
      ]
    },
    {
      "cell_type": "code",
      "source": [
        " #24. Write a code to remove the key \"age\" from the dictionary {'name': 'Bob', 'age': 22, 'city': 'New York'}.\n",
        " a={\"name\":\"bob\",\"age\":\"22\",\"city\":\"new york\"}\n",
        " a.pop(\"age\")\n",
        " print(a)"
      ],
      "metadata": {
        "colab": {
          "base_uri": "https://localhost:8080/"
        },
        "id": "nJCYuphv6ooz",
        "outputId": "b10e6c79-ce9b-4726-8e7d-75d0c1967847"
      },
      "execution_count": 28,
      "outputs": [
        {
          "output_type": "stream",
          "name": "stdout",
          "text": [
            "{'name': 'bob', 'city': 'new york'}\n"
          ]
        }
      ]
    },
    {
      "cell_type": "code",
      "source": [
        "#25. Write a code to check if the key \"city\" exists in the dictionary {'name': 'Alice', 'city': 'Paris'}.\n",
        "a={\"name\":\"alice\",\"city\":\"paris\"}\n",
        "if \"city\" in a:\n",
        "  print(\"yes\")\n",
        "else:\n",
        "  print(\"not found\")"
      ],
      "metadata": {
        "colab": {
          "base_uri": "https://localhost:8080/"
        },
        "id": "4kM5M0QoUToA",
        "outputId": "949c96f8-a7e6-475b-83de-2db540a30b4d"
      },
      "execution_count": 31,
      "outputs": [
        {
          "output_type": "stream",
          "name": "stdout",
          "text": [
            "yes\n"
          ]
        }
      ]
    },
    {
      "cell_type": "code",
      "source": [
        "#26. Write a code to create a list, a tuple, and a dictionary, and print them all.\n",
        "a=[\"apple\",\"mango\",\"kiwi\"]\n",
        "b=(\"honda\",\"hero\",\"ktm\")\n",
        "c={\"india\",\"nepal\",\"usa\"}\n",
        "print(a,b,c)"
      ],
      "metadata": {
        "colab": {
          "base_uri": "https://localhost:8080/"
        },
        "id": "iQ6z2G2kVXWJ",
        "outputId": "fc44273c-a683-470b-f18c-b464971f8392"
      },
      "execution_count": 32,
      "outputs": [
        {
          "output_type": "stream",
          "name": "stdout",
          "text": [
            "['apple', 'mango', 'kiwi'] ('honda', 'hero', 'ktm') {'nepal', 'india', 'usa'}\n"
          ]
        }
      ]
    },
    {
      "cell_type": "code",
      "source": [
        "#28. Write a code to create a list with strings and print the element at the third index.\n",
        "a=[\"apple\",\"redmi\",\"hcl\",\"vivo\"]\n",
        "for (eliments) in a\n",
        "print(eliments)"
      ],
      "metadata": {
        "colab": {
          "base_uri": "https://localhost:8080/",
          "height": 108
        },
        "id": "JITKBsMOWz3c",
        "outputId": "6a72adcc-0e6c-42de-b5c2-a9a9afa87268"
      },
      "execution_count": 36,
      "outputs": [
        {
          "output_type": "error",
          "ename": "SyntaxError",
          "evalue": "expected ':' (<ipython-input-36-fea8536b05ef>, line 3)",
          "traceback": [
            "\u001b[0;36m  File \u001b[0;32m\"<ipython-input-36-fea8536b05ef>\"\u001b[0;36m, line \u001b[0;32m3\u001b[0m\n\u001b[0;31m    for (eliments) in a\u001b[0m\n\u001b[0m                       ^\u001b[0m\n\u001b[0;31mSyntaxError\u001b[0m\u001b[0;31m:\u001b[0m expected ':'\n"
          ]
        }
      ]
    },
    {
      "cell_type": "code",
      "source": [
        "#29. Write a code to combine two dictionaries into one and print the result.\n",
        "a={\"india\",\"usa\",\"nepal\"}\n",
        "b={\"kolkata\",\"florida\",\"katmando\"}\n",
        "a.update(b)\n",
        "print(a)"
      ],
      "metadata": {
        "colab": {
          "base_uri": "https://localhost:8080/"
        },
        "id": "kDNfXYlYanFa",
        "outputId": "3c9bc3e6-12f0-47ed-c994-b19ed8a7d8aa"
      },
      "execution_count": 38,
      "outputs": [
        {
          "output_type": "stream",
          "name": "stdout",
          "text": [
            "{'kolkata', 'katmando', 'florida', 'nepal', 'india', 'usa'}\n"
          ]
        }
      ]
    },
    {
      "cell_type": "code",
      "source": [
        "#30. Write a code to convert a list of strings into a set.\n",
        "a=[\"ajay\",\"bijay\",\"avi\"]\n",
        "b=set(a)\n",
        "print(b)"
      ],
      "metadata": {
        "colab": {
          "base_uri": "https://localhost:8080/"
        },
        "id": "9b19sxuMbJdQ",
        "outputId": "2c32067c-cb43-4fae-80e0-9ddda1adb806"
      },
      "execution_count": 39,
      "outputs": [
        {
          "output_type": "stream",
          "name": "stdout",
          "text": [
            "{'ajay', 'avi', 'bijay'}\n"
          ]
        }
      ]
    },
    {
      "cell_type": "code",
      "source": [],
      "metadata": {
        "id": "YL7AmMl0dI5M"
      },
      "execution_count": null,
      "outputs": []
    }
  ]
}